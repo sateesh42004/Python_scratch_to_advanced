{
  "nbformat": 4,
  "nbformat_minor": 0,
  "metadata": {
    "colab": {
      "provenance": [],
      "authorship_tag": "ABX9TyMhYJORDOAsqXxr5x/YhwY5",
      "include_colab_link": true
    },
    "kernelspec": {
      "name": "python3",
      "display_name": "Python 3"
    },
    "language_info": {
      "name": "python"
    }
  },
  "cells": [
    {
      "cell_type": "markdown",
      "metadata": {
        "id": "view-in-github",
        "colab_type": "text"
      },
      "source": [
        "<a href=\"https://colab.research.google.com/github/sateesh42004/Python_scratch_to_advanced/blob/main/week-1.ipynb\" target=\"_parent\"><img src=\"https://colab.research.google.com/assets/colab-badge.svg\" alt=\"Open In Colab\"/></a>"
      ]
    },
    {
      "cell_type": "markdown",
      "source": [
        "# **week-1**\n"
      ],
      "metadata": {
        "id": "LK1SWF6jzpX3"
      }
    },
    {
      "cell_type": "markdown",
      "source": [
        "\n",
        "# **day-1**\n",
        "# **print statements**"
      ],
      "metadata": {
        "id": "OaoWGOklz78p"
      }
    },
    {
      "cell_type": "markdown",
      "source": [
        "# **1. Simple Print Statement**"
      ],
      "metadata": {
        "id": "I2YyOi955Cry"
      }
    },
    {
      "cell_type": "code",
      "source": [
        "\n",
        "\n",
        "print(\"1. Simple Print Statement: \",end=\"\")\n",
        "print(\"hello world\")\n"
      ],
      "metadata": {
        "colab": {
          "base_uri": "https://localhost:8080/"
        },
        "id": "fXi_GRF7z1aJ",
        "outputId": "6413a194-d846-413b-c2d0-25cd3600b666"
      },
      "execution_count": 12,
      "outputs": [
        {
          "output_type": "stream",
          "name": "stdout",
          "text": [
            "1. Simple Print Statement: hello world\n"
          ]
        }
      ]
    },
    {
      "cell_type": "markdown",
      "source": [
        "\n",
        "# **2.print multiple values**"
      ],
      "metadata": {
        "id": "xQqhBJzg5LFb"
      }
    },
    {
      "cell_type": "code",
      "source": [
        "\n",
        "name = \"sateesh\"\n",
        "age = 20\n",
        "print(\"2.print multiple values: \",end=\"\")\n",
        "print(\"name=\",name,\" age=\",age)\n"
      ],
      "metadata": {
        "colab": {
          "base_uri": "https://localhost:8080/"
        },
        "id": "lzG-20q1yDuZ",
        "outputId": "b4eeca14-067f-40ca-dbf6-5c6df172b966"
      },
      "execution_count": 7,
      "outputs": [
        {
          "output_type": "stream",
          "name": "stdout",
          "text": [
            "2.print multiple values: name= sateesh  age= 20\n"
          ]
        }
      ]
    },
    {
      "cell_type": "markdown",
      "source": [
        "#**3. Formatted Print (f-strings)**"
      ],
      "metadata": {
        "id": "rqPw27Zr5TAi"
      }
    },
    {
      "cell_type": "code",
      "source": [
        "\n",
        "print(\"3. Formatted Print (f-strings): \",end=\"\")\n",
        "print(f\"my name is {name} and my age is {age}\")\n"
      ],
      "metadata": {
        "colab": {
          "base_uri": "https://localhost:8080/"
        },
        "id": "MP5MncaCyEOK",
        "outputId": "1cf039d2-e3b1-4802-af44-105b04cc19a3"
      },
      "execution_count": 6,
      "outputs": [
        {
          "output_type": "stream",
          "name": "stdout",
          "text": [
            "3. Formatted Print (f-strings): my name is sateesh and my age is 20\n"
          ]
        }
      ]
    },
    {
      "cell_type": "markdown",
      "source": [
        "#**4. Print with format()**"
      ],
      "metadata": {
        "id": "x3ukjWOX5Zde"
      }
    },
    {
      "cell_type": "code",
      "source": [
        "\n",
        "print(\"4.Print with format()\",end=\"\")\n",
        "print(\"my name is {} and i am {} years old.\".format(name,age))\n"
      ],
      "metadata": {
        "colab": {
          "base_uri": "https://localhost:8080/"
        },
        "id": "9ArHwkS7yN3u",
        "outputId": "97680354-6e03-4cbf-a4d3-ffca7f758d75"
      },
      "execution_count": 5,
      "outputs": [
        {
          "output_type": "stream",
          "name": "stdout",
          "text": [
            "4.Print with format()my name is sateesh and i am 20 years old.\n"
          ]
        }
      ]
    },
    {
      "cell_type": "markdown",
      "source": [
        "#**5. Print with % Formatting (C-style)**"
      ],
      "metadata": {
        "id": "EwyL50cW5d-d"
      }
    },
    {
      "cell_type": "code",
      "source": [
        "\n",
        "print(\"5.Print with % Formatting (C-style): \",end=\"\")\n",
        "print(\"my name is %s and i am %d years old.\"%(name,age))"
      ],
      "metadata": {
        "colab": {
          "base_uri": "https://localhost:8080/"
        },
        "id": "KqeAM_GByQHi",
        "outputId": "f4b3e48a-c089-4b74-df04-6fad6ec4679e"
      },
      "execution_count": 4,
      "outputs": [
        {
          "output_type": "stream",
          "name": "stdout",
          "text": [
            "5.Print with % Formatting (C-style): my name is sateesh and i am 20 years old.\n"
          ]
        }
      ]
    },
    {
      "cell_type": "markdown",
      "source": [
        "# **Variables**\n",
        "# A variable is a name that stores a value.\n",
        "\n",
        "# You don’t need to declare type (Python is dynamically typed).\n",
        "\n",
        "# Rules:\n",
        "#  Can contain letters, digits, underscore (_).\n",
        "#  Must start with a letter or _.\n",
        "#  Cannot use reserved keywords (if, for, class, etc.)."
      ],
      "metadata": {
        "id": "UlwrIwgFyl3A"
      }
    },
    {
      "cell_type": "markdown",
      "source": [
        "#**3. Data Types**\n",
        "# int → whole numbers → 10, -5, 0.\n",
        "# float → decimal numbers → 3.14, -2.5.\n",
        "# str → text → \"Hello\", 'Python'.\n",
        "# bool → logical values → True, False."
      ],
      "metadata": {
        "id": "FuW_MOt848Y3"
      }
    },
    {
      "cell_type": "code",
      "source": [
        "\n",
        "\n",
        "a = 10        # int\n",
        "b = 3.14      # float\n",
        "c = \"Hello\"   # str\n",
        "d = True      # bool\n",
        "\n",
        "print(type(a), type(b), type(c), type(d))\n"
      ],
      "metadata": {
        "colab": {
          "base_uri": "https://localhost:8080/"
        },
        "id": "9v12tUkyxizr",
        "outputId": "1a74adf7-9cad-41f8-bde6-3a34bf2aace0"
      },
      "execution_count": 10,
      "outputs": [
        {
          "output_type": "stream",
          "name": "stdout",
          "text": [
            "<class 'int'> <class 'float'> <class 'str'> <class 'bool'>\n"
          ]
        }
      ]
    },
    {
      "cell_type": "markdown",
      "source": [
        "#**4.Type Checking**\n",
        "# type(x) → returns the data type of variable."
      ],
      "metadata": {
        "id": "Prfe5uQt4xTR"
      }
    },
    {
      "cell_type": "code",
      "source": [
        "\n",
        "print(type(10))\n",
        "# isinstance(x, type) → checks if variable belongs to given type.\n",
        "print(isinstance(10,int))\n"
      ],
      "metadata": {
        "colab": {
          "base_uri": "https://localhost:8080/"
        },
        "id": "D4IOoztFy0-Z",
        "outputId": "275d081a-0193-45e5-c122-8795e55f1792"
      },
      "execution_count": 9,
      "outputs": [
        {
          "output_type": "stream",
          "name": "stdout",
          "text": [
            "<class 'int'>\n",
            "True\n"
          ]
        }
      ]
    },
    {
      "cell_type": "markdown",
      "source": [
        "# **5.Type Conversion**\n",
        "# int(x) → convert to integer.\n",
        "# float(x) → convert to float.\n",
        "# str(x) → convert to string.\n",
        "# bool(x) → convert to boolean (0, \"\", None → False; everything else → True).\n",
        "\n"
      ],
      "metadata": {
        "id": "weJ1dMr5zFGu"
      }
    },
    {
      "cell_type": "code",
      "source": [
        "\n",
        "a=10\n",
        "b=12.4\n",
        "print(type(a),type(b))\n",
        "a=float(a)\n",
        "b=int(b)\n",
        "print(type(a),type(b))"
      ],
      "metadata": {
        "colab": {
          "base_uri": "https://localhost:8080/"
        },
        "id": "QUGOMWJDy5bZ",
        "outputId": "2abe5d7d-7a02-47e5-97ee-08b1103812fd"
      },
      "execution_count": 11,
      "outputs": [
        {
          "output_type": "stream",
          "name": "stdout",
          "text": [
            "<class 'int'> <class 'float'>\n",
            "<class 'float'> <class 'int'>\n"
          ]
        }
      ]
    },
    {
      "cell_type": "markdown",
      "source": [
        "# **DAY-2**"
      ],
      "metadata": {
        "id": "u89uzupr0Olo"
      }
    },
    {
      "cell_type": "markdown",
      "source": [
        "####1. complex numbers\n",
        "# Python supports complex numbers in the form a + bj (where j is the imaginary unit).\n",
        "# Useful in mathematics, engineering, signal processing, etc.\n"
      ],
      "metadata": {
        "id": "XGQX3N4N0b3s"
      }
    },
    {
      "cell_type": "code",
      "source": [
        "a = 34+8j\n",
        "print(\"----complex numbers----\")\n",
        "print(\"comples numbers: \",a)\n",
        "print(\"real number: \",a.real)\n",
        "print(\"imaginary number: \",a.imag)"
      ],
      "metadata": {
        "colab": {
          "base_uri": "https://localhost:8080/"
        },
        "id": "Bpww8GA_0U9y",
        "outputId": "40b8fe1f-ec0d-4b39-af2e-a0ce04a4e08e"
      },
      "execution_count": 13,
      "outputs": [
        {
          "output_type": "stream",
          "name": "stdout",
          "text": [
            "----complex numbers----\n",
            "comples numbers:  (34+8j)\n",
            "real number:  34.0\n",
            "imaginary number:  8.0\n"
          ]
        }
      ]
    },
    {
      "cell_type": "markdown",
      "source": [
        "#####2.Bytes Type\n",
        "# A bytes object is an immutable sequence of bytes (0–255).\n",
        "# Useful for working with binary data (files, images, networking).\n"
      ],
      "metadata": {
        "id": "p_csmgQH0mGV"
      }
    },
    {
      "cell_type": "code",
      "source": [
        "print(\"----Bytes Type-----\")\n",
        "a = b\"hello world\"\n",
        "print(a)\n",
        "print(type(a))\n",
        "print(a[0])        #ASCII value of 1st letter value"
      ],
      "metadata": {
        "colab": {
          "base_uri": "https://localhost:8080/"
        },
        "id": "L3zTSaZM0qA4",
        "outputId": "104ec467-f407-4268-feb6-1f8f81b4e7a9"
      },
      "execution_count": 14,
      "outputs": [
        {
          "output_type": "stream",
          "name": "stdout",
          "text": [
            "----Bytes Type-----\n",
            "b'hello world'\n",
            "<class 'bytes'>\n",
            "104\n"
          ]
        }
      ]
    },
    {
      "cell_type": "markdown",
      "source": [
        "#####3. None Type"
      ],
      "metadata": {
        "id": "Y0gNug8m0wba"
      }
    },
    {
      "cell_type": "code",
      "source": [
        "print(\"----None Type----\")\n",
        "val = None\n",
        "print(\"none variable: \",end=\"\")\n",
        "print(val)\n",
        "print(type(val))"
      ],
      "metadata": {
        "colab": {
          "base_uri": "https://localhost:8080/"
        },
        "id": "RWMTJjek0zp5",
        "outputId": "12703df7-e51a-40b7-9b24-90c25e477226"
      },
      "execution_count": 15,
      "outputs": [
        {
          "output_type": "stream",
          "name": "stdout",
          "text": [
            "----None Type----\n",
            "none variable: None\n",
            "<class 'NoneType'>\n"
          ]
        }
      ]
    },
    {
      "cell_type": "markdown",
      "source": [
        "######4.operators"
      ],
      "metadata": {
        "id": "LIxqzxD004YJ"
      }
    },
    {
      "cell_type": "code",
      "source": [
        "print(\"-----operators-----\")\n",
        "a, b = 10, 3\n",
        "print(\"add: \",a + b)   # 13\n",
        "print(\"sub: \",a - b)   # 7\n",
        "print(\"mul: \",a * b)   # 30\n",
        "print(\"div: \",a / b)   # 3.333...\n",
        "print(\"floor div: \",a // b)  # 3 (floor division)\n",
        "print(\"reminder div: \",a % b)   # 1 (remainder)\n",
        "print(\"power: \",a ** b)  # 1000 (power)"
      ],
      "metadata": {
        "colab": {
          "base_uri": "https://localhost:8080/"
        },
        "id": "CEeud2zu0547",
        "outputId": "fb765ee7-ddfb-4f7b-f376-fbbaf43344eb"
      },
      "execution_count": 16,
      "outputs": [
        {
          "output_type": "stream",
          "name": "stdout",
          "text": [
            "-----operators-----\n",
            "add:  13\n",
            "sub:  7\n",
            "mul:  30\n",
            "div:  3.3333333333333335\n",
            "floor div:  3\n",
            "reminder div:  1\n",
            "power:  1000\n"
          ]
        }
      ]
    },
    {
      "cell_type": "markdown",
      "source": [
        "######5.Comparison Operators"
      ],
      "metadata": {
        "id": "bE1DNZ110_xj"
      }
    },
    {
      "cell_type": "code",
      "source": [
        "print(\"----Comparison Operators-----\")\n",
        "print(\"grater than: \",10 > 5)   # True\n",
        "print(\"10 is same as 5: \",10 == 5)  # False"
      ],
      "metadata": {
        "colab": {
          "base_uri": "https://localhost:8080/"
        },
        "id": "4z7_QEtF1CLL",
        "outputId": "c57c84bf-9708-4ec8-8f5f-d80ffe108071"
      },
      "execution_count": 17,
      "outputs": [
        {
          "output_type": "stream",
          "name": "stdout",
          "text": [
            "----Comparison Operators-----\n",
            "grater than:  True\n",
            "10 is same as 5:  False\n"
          ]
        }
      ]
    },
    {
      "cell_type": "markdown",
      "source": [
        "#####6.Logical Operators"
      ],
      "metadata": {
        "id": "BbVOX3b11FR0"
      }
    },
    {
      "cell_type": "code",
      "source": [
        "x = 15\n",
        "print(\"-----Logical Operators-----\")\n",
        "print(\"AND Operators: \",x > 10 and x < 20)  # True\n",
        "print(\"OR Operators: \",x > 20 or x == 15)  # True\n",
        "print(\"NOT Operators: \",not(x > 10))        # False"
      ],
      "metadata": {
        "colab": {
          "base_uri": "https://localhost:8080/"
        },
        "id": "trR7Z4Od1Hiq",
        "outputId": "9a8f404b-71a2-485c-9ec5-da01a5f81f37"
      },
      "execution_count": 18,
      "outputs": [
        {
          "output_type": "stream",
          "name": "stdout",
          "text": [
            "-----Logical Operators-----\n",
            "AND Operators:  True\n",
            "OR Operators:  True\n",
            "NOT Operators:  False\n"
          ]
        }
      ]
    },
    {
      "cell_type": "markdown",
      "source": [
        "#####7.Assignment Operators"
      ],
      "metadata": {
        "id": "JNHJzkxP1Nwh"
      }
    },
    {
      "cell_type": "code",
      "source": [
        "print(\"-----Assignment Operators----\")\n",
        "n = 5\n",
        "n += 2   # n = n + 2\n",
        "print(n) # 7"
      ],
      "metadata": {
        "colab": {
          "base_uri": "https://localhost:8080/"
        },
        "id": "NN3g3MgX1Py9",
        "outputId": "78fa2012-91bd-4c79-8185-c39c456298be"
      },
      "execution_count": 19,
      "outputs": [
        {
          "output_type": "stream",
          "name": "stdout",
          "text": [
            "-----Assignment Operators----\n",
            "7\n"
          ]
        }
      ]
    },
    {
      "cell_type": "markdown",
      "source": [
        "# **DAY-3**"
      ],
      "metadata": {
        "id": "LtV6fPzd1XbT"
      }
    },
    {
      "cell_type": "markdown",
      "source": [
        "# **1.string methods**"
      ],
      "metadata": {
        "id": "4ui4go691csV"
      }
    },
    {
      "cell_type": "code",
      "source": [
        "text = \"Hello World\"\n",
        "print(text.upper())        # HELLO WORLD\n",
        "print(text.lower())        # hello world\n",
        "print(text.replace(\"Hello\", \"Hi\"))   # Hi World\n",
        "print(text.split())        # ['Hello', 'World']\n",
        "words = [\"Python\", \"is\", \"fun\"]\n",
        "print(\" \".join(words))     # Python is fun"
      ],
      "metadata": {
        "colab": {
          "base_uri": "https://localhost:8080/"
        },
        "id": "7rV1o-GT1o3_",
        "outputId": "e04c040d-2837-4a27-f0b5-3b552af8b4b3"
      },
      "execution_count": 20,
      "outputs": [
        {
          "output_type": "stream",
          "name": "stdout",
          "text": [
            "HELLO WORLD\n",
            "hello world\n",
            "Hi World\n",
            "['Hello', 'World']\n",
            "Python is fun\n"
          ]
        }
      ]
    },
    {
      "cell_type": "markdown",
      "source": [
        "# **2. List**\n",
        "#A list is a mutable sequence (you can change values).\n"
      ],
      "metadata": {
        "id": "1DgPObyY1xfd"
      }
    },
    {
      "cell_type": "code",
      "source": [
        "numbers = [10, 20, 30, 40, 50]\n",
        "print(numbers[0])   # 10\n",
        "print(numbers[-1])  # 50\n",
        "###2.1 : Slicing\n",
        "print(numbers[1:4])\n",
        "numbers.append(60)     # add at end\n",
        "numbers.insert(1, 15)  # insert at position 1\n",
        "print(numbers)\n",
        "\n",
        "numbers.remove(30)     # remove value 30\n",
        "numbers.pop()          # removes last element\n",
        "print(numbers)"
      ],
      "metadata": {
        "colab": {
          "base_uri": "https://localhost:8080/"
        },
        "id": "UNCyLwF0134X",
        "outputId": "eed9ca29-23f8-4d18-da00-fb66c8c36f6d"
      },
      "execution_count": 21,
      "outputs": [
        {
          "output_type": "stream",
          "name": "stdout",
          "text": [
            "10\n",
            "50\n",
            "[20, 30, 40]\n",
            "[10, 15, 20, 30, 40, 50, 60]\n",
            "[10, 15, 20, 40, 50]\n"
          ]
        }
      ]
    },
    {
      "cell_type": "markdown",
      "source": [
        "# **3. Tuples**\n",
        "# A tuple is like a list but immutable (cannot change values).\n",
        "# Use () instead of []."
      ],
      "metadata": {
        "id": "NiT6FFvV2Ckk"
      }
    },
    {
      "cell_type": "code",
      "source": [
        "t = (10, 20, 30, 40)\n",
        "print(t[0])      # 10\n",
        "print(t[-1])     # 40\n",
        "print(t[1:3])    # (20, 30)"
      ],
      "metadata": {
        "colab": {
          "base_uri": "https://localhost:8080/"
        },
        "id": "E88p8RO32JW7",
        "outputId": "40fbf694-3f75-423e-edbb-df33ae6a1582"
      },
      "execution_count": 22,
      "outputs": [
        {
          "output_type": "stream",
          "name": "stdout",
          "text": [
            "10\n",
            "40\n",
            "(20, 30)\n"
          ]
        }
      ]
    },
    {
      "cell_type": "markdown",
      "source": [
        "# **4. Sets**\n",
        "# A set is a collection of unique, unordered elements.\n",
        "# Use {} brackets."
      ],
      "metadata": {
        "id": "n13AxJpl2NF-"
      }
    },
    {
      "cell_type": "code",
      "source": [
        "s = {1, 2, 3, 3, 4}\n",
        "print(s)   # {1, 2, 3, 4} (duplicates removed)\n",
        "s.add(5)\n",
        "s.remove(2)\n",
        "print(s)\n",
        "#4.1:Set Operations\n",
        "# A set is a collection of unique, unordered elements.\n",
        "# Use {} brackets.\n",
        "print(\"-----Set Operations---- \")\n",
        "a = {1, 2, 3}\n",
        "b = {3, 4, 5}\n",
        "print(a.union(b))        # {1, 2, 3, 4, 5}\n",
        "print(a.intersection(b)) # {3}"
      ],
      "metadata": {
        "colab": {
          "base_uri": "https://localhost:8080/"
        },
        "id": "w1HAdwbs2RkS",
        "outputId": "ec344fd3-e5bc-4279-8277-a0019004f4e7"
      },
      "execution_count": 23,
      "outputs": [
        {
          "output_type": "stream",
          "name": "stdout",
          "text": [
            "{1, 2, 3, 4}\n",
            "{1, 3, 4, 5}\n",
            "-----Set Operations---- \n",
            "{1, 2, 3, 4, 5}\n",
            "{3}\n"
          ]
        }
      ]
    },
    {
      "cell_type": "markdown",
      "source": [
        "## **5. Dictionaries**\n",
        "# Stores data as key-value pairs."
      ],
      "metadata": {
        "id": "HD-Mtmq42baD"
      }
    },
    {
      "cell_type": "code",
      "source": [
        "print(\"dictionarie\")\n",
        "student = {\"name\": \"Sateesh\", \"age\": 21, \"course\": \"Python\"}\n",
        "print(student[\"name\"])    # Sateesh\n",
        "print(student.get(\"age\")) # 21\n",
        "#5.1:Update & Add\n",
        "print(\"-----Update & Add----\")\n",
        "student[\"course\"] = \"AI\"\n",
        "student[\"grade\"] = \"A\"\n",
        "print(student)\n",
        "#5.2: Delete\n",
        "print(\"----Delete----\")\n",
        "student.pop(\"age\")\n",
        "del student[\"grade\"]\n",
        "print(student)"
      ],
      "metadata": {
        "colab": {
          "base_uri": "https://localhost:8080/"
        },
        "id": "FUQ40QqK2gix",
        "outputId": "3f9bf047-f37d-4fd3-9bf1-e113f5778538"
      },
      "execution_count": 24,
      "outputs": [
        {
          "output_type": "stream",
          "name": "stdout",
          "text": [
            "dictionarie\n",
            "Sateesh\n",
            "21\n",
            "-----Update & Add----\n",
            "{'name': 'Sateesh', 'age': 21, 'course': 'AI', 'grade': 'A'}\n",
            "----Delete----\n",
            "{'name': 'Sateesh', 'course': 'AI'}\n"
          ]
        }
      ]
    },
    {
      "cell_type": "markdown",
      "source": [
        "# DAY-4"
      ],
      "metadata": {
        "id": "vLmoSsx22r19"
      }
    },
    {
      "cell_type": "markdown",
      "source": [
        "# **1.A: Conditional Statements**\n",
        "# (a) if\n",
        "# Used to execute a block when condition is True."
      ],
      "metadata": {
        "id": "DdztiJuD2xwA"
      }
    },
    {
      "cell_type": "code",
      "source": [
        "print(\"--------------1.A:using if condition----------------\")\n",
        "x = 12\n",
        "if x>0:\n",
        "  print(\"positive number\")\n"
      ],
      "metadata": {
        "colab": {
          "base_uri": "https://localhost:8080/"
        },
        "id": "ljcs1G7N29QT",
        "outputId": "363ff0f7-3d76-4b23-fab2-76ae79d12ad8"
      },
      "execution_count": 25,
      "outputs": [
        {
          "output_type": "stream",
          "name": "stdout",
          "text": [
            "--------------1.A:using if condition----------------\n",
            "positive number\n"
          ]
        }
      ]
    },
    {
      "cell_type": "markdown",
      "source": [
        "# **1.B:using if-else**"
      ],
      "metadata": {
        "id": "CT2wgkvh3Bg4"
      }
    },
    {
      "cell_type": "code",
      "source": [
        "print(\"-------------1.B:using if-else--------------------\")\n",
        "x = -2\n",
        "if x>0:\n",
        "  print(\"positive number\")\n",
        "else:\n",
        "  print(\"negative number\")"
      ],
      "metadata": {
        "colab": {
          "base_uri": "https://localhost:8080/"
        },
        "id": "thrWBYss3Hoa",
        "outputId": "439dee40-1ded-4a16-a6f9-87800f2b1075"
      },
      "execution_count": 26,
      "outputs": [
        {
          "output_type": "stream",
          "name": "stdout",
          "text": [
            "-------------1.B:using if-else--------------------\n",
            "negative number\n"
          ]
        }
      ]
    },
    {
      "cell_type": "markdown",
      "source": [
        "# **1.C:if-elif-else**"
      ],
      "metadata": {
        "id": "9cyqPHMh3KqB"
      }
    },
    {
      "cell_type": "code",
      "source": [
        "print(\"------------- 1.C:if-elif-else--------------------\")\n",
        "x = 0\n",
        "if x>0:\n",
        "  print(\"positive number\")\n",
        "elif x<0:\n",
        "  print(\"negative number\")\n",
        "else:\n",
        "  print(\"number is Zero\")"
      ],
      "metadata": {
        "colab": {
          "base_uri": "https://localhost:8080/"
        },
        "id": "RUWRi0NU3On9",
        "outputId": "2702ff8a-255b-47ef-88fd-dc055915d8b2"
      },
      "execution_count": 27,
      "outputs": [
        {
          "output_type": "stream",
          "name": "stdout",
          "text": [
            "------------- 1.C:if-elif-else--------------------\n",
            "number is Zero\n"
          ]
        }
      ]
    },
    {
      "cell_type": "markdown",
      "source": [
        "# **1.D:nested if**"
      ],
      "metadata": {
        "id": "5odFcLL83SzL"
      }
    },
    {
      "cell_type": "code",
      "source": [
        "print(\"-------------1.D:nested if--------------------\")\n",
        "x = 13\n",
        "if x>0:\n",
        "  print(\"positive number\")\n",
        "  if x>10:\n",
        "    print(\"number is grater than 10\")\n",
        "else:\n",
        "  print(\"negative number\")\n"
      ],
      "metadata": {
        "colab": {
          "base_uri": "https://localhost:8080/"
        },
        "id": "1aXpLDtn3Ysj",
        "outputId": "0d30f9e1-d735-46ab-88db-10611591c28f"
      },
      "execution_count": 28,
      "outputs": [
        {
          "output_type": "stream",
          "name": "stdout",
          "text": [
            "-------------1.D:nested if--------------------\n",
            "positive number\n",
            "number is grater than 10\n"
          ]
        }
      ]
    },
    {
      "cell_type": "markdown",
      "source": [
        "#  2. Loops"
      ],
      "metadata": {
        "id": "LVWkO_yK3f1b"
      }
    },
    {
      "cell_type": "markdown",
      "source": [
        "# **a)for loop**"
      ],
      "metadata": {
        "id": "lYon34Bo3kcJ"
      }
    },
    {
      "cell_type": "code",
      "source": [
        "print(\"----------------------2.A:for loop-------------------\")\n",
        "for i in range(5):\n",
        "  print(i,end=\" \")"
      ],
      "metadata": {
        "colab": {
          "base_uri": "https://localhost:8080/"
        },
        "id": "Nsc4mK_83vNO",
        "outputId": "ca04c9bc-297d-481f-88a6-1a211acda30d"
      },
      "execution_count": 29,
      "outputs": [
        {
          "output_type": "stream",
          "name": "stdout",
          "text": [
            "----------------------2.A:for loop-------------------\n",
            "0 1 2 3 4 "
          ]
        }
      ]
    },
    {
      "cell_type": "markdown",
      "source": [
        "# **b)while loop**"
      ],
      "metadata": {
        "id": "ECSdctK-3ydI"
      }
    },
    {
      "cell_type": "code",
      "source": [
        "print(\"\\n----------------2.B:while loop------------------------\")\n",
        "i=1\n",
        "while i<=5:\n",
        "  print(i,end=\" \")\n",
        "  i+=1"
      ],
      "metadata": {
        "colab": {
          "base_uri": "https://localhost:8080/"
        },
        "id": "MRg8dkOK31gY",
        "outputId": "2690e5a9-28af-48f7-8d1c-a57c5bf4b076"
      },
      "execution_count": 30,
      "outputs": [
        {
          "output_type": "stream",
          "name": "stdout",
          "text": [
            "\n",
            "----------------2.B:while loop------------------------\n",
            "1 2 3 4 5 "
          ]
        }
      ]
    },
    {
      "cell_type": "markdown",
      "source": [
        "# **(c) Loop control statements**\n",
        "# break → exit loop"
      ],
      "metadata": {
        "id": "4NPbhsOo34U2"
      }
    },
    {
      "cell_type": "code",
      "source": [
        "print(\"\\n---------------2.C.1:using break-----------------------\")\n",
        "for i in range(5):\n",
        "  if i==3:\n",
        "    break\n",
        "  print(i,end=\" \")"
      ],
      "metadata": {
        "colab": {
          "base_uri": "https://localhost:8080/"
        },
        "id": "vxBmGyBH4AmK",
        "outputId": "b3e67373-35a5-4919-fc06-82cff31988c3"
      },
      "execution_count": 31,
      "outputs": [
        {
          "output_type": "stream",
          "name": "stdout",
          "text": [
            "\n",
            "---------------2.C.1:using break-----------------------\n",
            "0 1 2 "
          ]
        }
      ]
    },
    {
      "cell_type": "markdown",
      "source": [
        "#  continue → skip current iteration"
      ],
      "metadata": {
        "id": "_gNGgVsX4EfZ"
      }
    },
    {
      "cell_type": "code",
      "source": [
        "print(\"\\n-------------2.C.2:using continue----------------------\")\n",
        "for i in range(5):\n",
        "  if i == 3:\n",
        "    continue\n",
        "  print(i,end=\" \")"
      ],
      "metadata": {
        "colab": {
          "base_uri": "https://localhost:8080/"
        },
        "id": "u2_W_z484LqG",
        "outputId": "6fb3ab73-2376-4eb9-df63-ef4121fa5006"
      },
      "execution_count": 32,
      "outputs": [
        {
          "output_type": "stream",
          "name": "stdout",
          "text": [
            "\n",
            "-------------2.C.2:using continue----------------------\n",
            "0 1 2 4 "
          ]
        }
      ]
    },
    {
      "cell_type": "markdown",
      "source": [
        " **pass → do nothing (placeholder)**"
      ],
      "metadata": {
        "id": "P42Vhftz4O0B"
      }
    },
    {
      "cell_type": "code",
      "source": [
        "print(\"\\n---------------2.C.3:using pass------------------------\")\n",
        "for i in range(5):\n",
        "  if i ==2:\n",
        "    pass\n",
        "  print(i,end=\" \")\n",
        "\n"
      ],
      "metadata": {
        "colab": {
          "base_uri": "https://localhost:8080/"
        },
        "id": "83UeHsYp4T6N",
        "outputId": "d2ab060e-1e73-4bc1-9895-0a31a52320bc"
      },
      "execution_count": 33,
      "outputs": [
        {
          "output_type": "stream",
          "name": "stdout",
          "text": [
            "\n",
            "---------------2.C.3:using pass------------------------\n",
            "0 1 2 3 4 "
          ]
        }
      ]
    },
    {
      "cell_type": "markdown",
      "source": [
        "# Day 5 – Functions (default, keyword, *args, kwargs) **bold text**"
      ],
      "metadata": {
        "id": "L5lS9q5F5pG0"
      }
    },
    {
      "cell_type": "markdown",
      "source": [
        "**1. What is a Function?**\n",
        "# A function is a block of reusable code that performs a specific task.\n",
        "# We use def keyword in Python."
      ],
      "metadata": {
        "id": "ozgLaXl_5uih"
      }
    },
    {
      "cell_type": "markdown",
      "source": [
        "# **using basic functions**"
      ],
      "metadata": {
        "id": "UcEnXvCM50Sw"
      }
    },
    {
      "cell_type": "code",
      "source": [
        "print(\"-----------------using basic functions-----------\")\n",
        "def greet():\n",
        "  print(\"HELLO, welcome to Python!\")\n",
        "greet()   #calling function"
      ],
      "metadata": {
        "colab": {
          "base_uri": "https://localhost:8080/"
        },
        "id": "_ZPRCSEt55bW",
        "outputId": "7f240cdb-f696-497f-c60e-ea26a92068ce"
      },
      "execution_count": 34,
      "outputs": [
        {
          "output_type": "stream",
          "name": "stdout",
          "text": [
            "-----------------using basic functions-----------\n",
            "HELLO, welcome to Python!\n"
          ]
        }
      ]
    },
    {
      "cell_type": "markdown",
      "source": [
        "# **Function with Parameters**"
      ],
      "metadata": {
        "id": "Ko_8NbOT59uw"
      }
    },
    {
      "cell_type": "code",
      "source": [
        "print(\"------------Function with Parameters------------\")\n",
        "def add(a,b):\n",
        "  return a+b\n",
        "print(add(3,2))"
      ],
      "metadata": {
        "colab": {
          "base_uri": "https://localhost:8080/"
        },
        "id": "oznikEXB6Aaj",
        "outputId": "26b051fe-930c-41a3-a5ba-4c94f3a10955"
      },
      "execution_count": 35,
      "outputs": [
        {
          "output_type": "stream",
          "name": "stdout",
          "text": [
            "------------Function with Parameters------------\n",
            "5\n"
          ]
        }
      ]
    },
    {
      "cell_type": "markdown",
      "source": [
        "# **Default Arguments**"
      ],
      "metadata": {
        "id": "5Uq0ECfU6EUJ"
      }
    },
    {
      "cell_type": "code",
      "source": [
        "print(\"-------------Default Arguments------------------\")\n",
        "#If you don’t provide a value, the default is used.\n",
        "def greet(name=\"sateesh\"):\n",
        "  print(\"hello mr \",name)\n",
        "greet()\n",
        "greet(\"sushanth\")"
      ],
      "metadata": {
        "colab": {
          "base_uri": "https://localhost:8080/"
        },
        "id": "rAemX0J26IER",
        "outputId": "9c4a44fe-cb97-4099-f9e3-be5ab41c455d"
      },
      "execution_count": 36,
      "outputs": [
        {
          "output_type": "stream",
          "name": "stdout",
          "text": [
            "-------------Default Arguments------------------\n",
            "hello mr  sateesh\n",
            "hello mr  sushanth\n"
          ]
        }
      ]
    },
    {
      "cell_type": "markdown",
      "source": [
        "# **Keyword Arguments**\n",
        "#You can specify arguments by name, order doesn’t matter."
      ],
      "metadata": {
        "id": "GHAMcKkr6LZ_"
      }
    },
    {
      "cell_type": "code",
      "source": [
        "\n",
        "def student(name,age):\n",
        "  print(f\"name: {name} and age: {age}\")\n",
        "student(age=21,name=\"sateesh\")\n"
      ],
      "metadata": {
        "id": "aCrhrxlK6P8a"
      },
      "execution_count": null,
      "outputs": []
    },
    {
      "cell_type": "markdown",
      "source": [
        "## *args (Variable number of positional arguments)\n",
        "Collects multiple values into a tuple."
      ],
      "metadata": {
        "id": "rStF9XZG6mwt"
      }
    },
    {
      "cell_type": "code",
      "source": [
        "def add_num(*args):\n",
        "  print(*args)\n",
        "  return sum(args)\n",
        "print(add_num(1,2,3,4,5))"
      ],
      "metadata": {
        "colab": {
          "base_uri": "https://localhost:8080/"
        },
        "id": "P8OqS9NN6yfx",
        "outputId": "7eb61090-78fe-497c-fd88-93cfc55f9c77"
      },
      "execution_count": 37,
      "outputs": [
        {
          "output_type": "stream",
          "name": "stdout",
          "text": [
            "1 2 3 4 5\n",
            "15\n"
          ]
        }
      ]
    },
    {
      "cell_type": "markdown",
      "source": [
        "# **kwargs (Variable number of keyword arguments)"
      ],
      "metadata": {
        "id": "q3KJy5zL63k_"
      }
    },
    {
      "cell_type": "code",
      "source": [
        "print(\"------**kwargs (Variable number of keyword arguments)------\")\n",
        "def student_info(**args):\n",
        "  print(args)\n",
        "student_info(name=\"sateesh\",age=21,course=\"Python\")"
      ],
      "metadata": {
        "colab": {
          "base_uri": "https://localhost:8080/"
        },
        "id": "aSaqHw4g6-IP",
        "outputId": "5c6bccfa-1f31-49f8-e8d1-dd2701d400e1"
      },
      "execution_count": 38,
      "outputs": [
        {
          "output_type": "stream",
          "name": "stdout",
          "text": [
            "------**kwargs (Variable number of keyword arguments)------\n",
            "{'name': 'sateesh', 'age': 21, 'course': 'Python'}\n"
          ]
        }
      ]
    },
    {
      "cell_type": "markdown",
      "source": [
        "# **Return Statement**\n",
        "Functions can return values for further use."
      ],
      "metadata": {
        "id": "1dZ2v9KG7Jmk"
      }
    },
    {
      "cell_type": "code",
      "source": [
        "print(\"------------return statement-------------------\")\n",
        "def sqrt(x):\n",
        "  return x*x\n",
        "print(sqrt(5))"
      ],
      "metadata": {
        "colab": {
          "base_uri": "https://localhost:8080/"
        },
        "id": "lLZGFOwl7MxJ",
        "outputId": "a9c3d09e-c44b-49fe-ed87-aec3d387a8ef"
      },
      "execution_count": 39,
      "outputs": [
        {
          "output_type": "stream",
          "name": "stdout",
          "text": [
            "------------return statement-------------------\n",
            "25\n"
          ]
        }
      ]
    },
    {
      "cell_type": "markdown",
      "source": [
        "# **Nested Functions**\n",
        "You can define a function inside another."
      ],
      "metadata": {
        "id": "E5mDP3of7RQs"
      }
    },
    {
      "cell_type": "code",
      "source": [
        "print(\"------------Nested Functions--------------------\")\n",
        "def outer():\n",
        "  def inner():\n",
        "    print(\"text from inner function\")\n",
        "  inner()\n",
        "\n",
        "outer()"
      ],
      "metadata": {
        "colab": {
          "base_uri": "https://localhost:8080/"
        },
        "id": "8XMwK3Ut7WfG",
        "outputId": "bf9a9913-80bb-4692-b11a-78d82fe12a21"
      },
      "execution_count": 40,
      "outputs": [
        {
          "output_type": "stream",
          "name": "stdout",
          "text": [
            "------------Nested Functions--------------------\n",
            "text from inner function\n"
          ]
        }
      ]
    },
    {
      "cell_type": "markdown",
      "source": [
        "# **Day 6 – File Handling Basics (Read/Write Files)**"
      ],
      "metadata": {
        "id": "KYXVk93R8EEG"
      }
    },
    {
      "cell_type": "markdown",
      "source": [
        "# **1. Why File Handling?**\n",
        "\n",
        "Programs often need to store data permanently (e.g., logs, user input, reports).\n",
        "\n",
        "File handling lets us create, read, update, and delete files in Python."
      ],
      "metadata": {
        "id": "B1O3R3_K8HLE"
      }
    },
    {
      "cell_type": "markdown",
      "source": [
        "# **2. Opening a File**\n",
        "# **Common Modes:**\n",
        "\n",
        "\"r\" → Read (default, error if file not found)\n",
        "\n",
        "\"w\" → Write (creates new/overwrites existing file)\n",
        "\n",
        "\"a\" → Append (adds to file without overwriting)\n",
        "\n",
        "\"x\" → Create (error if file exists)\n",
        "\n",
        "\"b\" → Binary mode (images, PDFs)\n",
        "\n",
        "\"t\" → Text mode (default)"
      ],
      "metadata": {
        "id": "QXo8EFyw8S2i"
      }
    },
    {
      "cell_type": "code",
      "source": [
        "file = open(\"timings.txt\",\"r\")"
      ],
      "metadata": {
        "id": "S4tK1U8v8Wso"
      },
      "execution_count": 41,
      "outputs": []
    },
    {
      "cell_type": "markdown",
      "source": [
        "# **3. Writing to a File**"
      ],
      "metadata": {
        "id": "bYwPJIar-KuQ"
      }
    },
    {
      "cell_type": "code",
      "source": [
        "f = open(\"timings.txt\",\"w\")\n",
        "f.write(\"Python is fun\")\n",
        "f.close()"
      ],
      "metadata": {
        "id": "NXFtU0ta-G_f"
      },
      "execution_count": 42,
      "outputs": []
    },
    {
      "cell_type": "markdown",
      "source": [
        "# **4. Reading from a File**"
      ],
      "metadata": {
        "id": "uDj2-lDm-hCq"
      }
    },
    {
      "cell_type": "code",
      "source": [
        "f =open(\"timings.txt\",\"r\")\n",
        "print(f.read())# Entire file\n",
        "# print(f.read(10))   # First 10 chars\n",
        "# print(f.readline()) # One line\n",
        "# print(f.readlines())# List of all lines\n",
        "f.close()"
      ],
      "metadata": {
        "colab": {
          "base_uri": "https://localhost:8080/"
        },
        "id": "cBudpAOA-kbs",
        "outputId": "aa959f18-ca94-4d9a-d021-198d78dee6bf"
      },
      "execution_count": 43,
      "outputs": [
        {
          "output_type": "stream",
          "name": "stdout",
          "text": [
            "Python is fun\n"
          ]
        }
      ]
    },
    {
      "cell_type": "markdown",
      "source": [
        "# **5. Appending to a File**"
      ],
      "metadata": {
        "id": "EOy3YaSJ-z26"
      }
    },
    {
      "cell_type": "code",
      "source": [
        "f = open(\"timings.txt\",\"a\")\n",
        "f.write(\"This line is appended.\")\n",
        "f.close()\n"
      ],
      "metadata": {
        "colab": {
          "base_uri": "https://localhost:8080/"
        },
        "id": "x3EHpqed-3Yu",
        "outputId": "5bec0b27-5120-4a43-a39f-0cdcd297ee16"
      },
      "execution_count": 47,
      "outputs": [
        {
          "output_type": "stream",
          "name": "stdout",
          "text": [
            "Python is funThis line is appended.This line is appended.This line is appended.This line is appended.\n"
          ]
        }
      ]
    },
    {
      "cell_type": "markdown",
      "source": [
        "# **6. Best Practice – Using with**\n",
        "Automatically closes the file."
      ],
      "metadata": {
        "id": "iDueOh7__ZN7"
      }
    },
    {
      "cell_type": "code",
      "source": [
        "with open(\"timings.txt\",\"r\") as f:\n",
        "  data=f.read()\n",
        "  print(data)"
      ],
      "metadata": {
        "colab": {
          "base_uri": "https://localhost:8080/"
        },
        "id": "2VyXR5l7_dc_",
        "outputId": "c25e577a-0457-4baa-9f0b-2b62e86d4664"
      },
      "execution_count": 48,
      "outputs": [
        {
          "output_type": "stream",
          "name": "stdout",
          "text": [
            "Python is fun .This line is appended.\n"
          ]
        }
      ]
    },
    {
      "cell_type": "markdown",
      "source": [
        "# **7. Check if File Exists / Delete File**"
      ],
      "metadata": {
        "id": "jkkIKFt2_yVf"
      }
    },
    {
      "cell_type": "code",
      "source": [
        "import os\n",
        "if os.path.exists(\"timings.txt\"):\n",
        "  print(\"file exists\")\n",
        "  os.remove(\"timings.txt\")\n",
        "else:\n",
        "  print(\"file does not exist\")\n"
      ],
      "metadata": {
        "colab": {
          "base_uri": "https://localhost:8080/"
        },
        "id": "mAGhPhpM_0x9",
        "outputId": "04f58d97-734d-4768-b94f-91d7f5f025fd"
      },
      "execution_count": 50,
      "outputs": [
        {
          "output_type": "stream",
          "name": "stdout",
          "text": [
            "file exists\n"
          ]
        }
      ]
    },
    {
      "cell_type": "markdown",
      "source": [
        "# **Practice Tasks**"
      ],
      "metadata": {
        "id": "D1deHwwKAWIp"
      }
    },
    {
      "cell_type": "markdown",
      "source": [
        "# **Task 1: Write and read back**"
      ],
      "metadata": {
        "id": "lQBmmMGRAY15"
      }
    },
    {
      "cell_type": "code",
      "source": [
        "with open(\"notes.txt\",\"w\") as f:\n",
        "  f.write(\"my self my name is sateesh reddy.\\n I am learning Python\")\n",
        "with open(\"notes.txt\",\"r\") as f:\n",
        "  print(f.read())"
      ],
      "metadata": {
        "colab": {
          "base_uri": "https://localhost:8080/"
        },
        "id": "3vm53t_cAb-w",
        "outputId": "4a2ab8c6-5160-4e19-ceb7-8b08829f8758"
      },
      "execution_count": 51,
      "outputs": [
        {
          "output_type": "stream",
          "name": "stdout",
          "text": [
            "my self my name is sateesh reddy.\n",
            " I am learning Python\n"
          ]
        }
      ]
    },
    {
      "cell_type": "markdown",
      "source": [
        "# **Task 2: Append to a file**"
      ],
      "metadata": {
        "id": "jsOrl2hKBGCn"
      }
    },
    {
      "cell_type": "code",
      "source": [
        "with open(\"notes.txt\",\"a\") as f:\n",
        "  f.write(\"this line are appended.\")\n",
        "with open(\"notes.txt\",\"r\") as f:\n",
        "  data = f.read()\n",
        "  print(data)"
      ],
      "metadata": {
        "colab": {
          "base_uri": "https://localhost:8080/"
        },
        "id": "xEV2gvQRBK7L",
        "outputId": "f226b47e-fcc2-4097-ed92-32f17686f7e1"
      },
      "execution_count": 55,
      "outputs": [
        {
          "output_type": "stream",
          "name": "stdout",
          "text": [
            "my self my name is sateesh reddy.\n",
            " I am learning Pythonthis line are appendedthis line are appendedthis line are appended.this line are appended.\n"
          ]
        }
      ]
    },
    {
      "cell_type": "markdown",
      "source": [
        "# **Task 3: Count lines, words, and characters**"
      ],
      "metadata": {
        "id": "b0-eLUAqBt6T"
      }
    },
    {
      "cell_type": "code",
      "source": [
        "with open(\"notes.txt\",\"r\") as f:\n",
        "  text=f.read()\n",
        "lines = text.split(\"\\n\")\n",
        "words = text.split()\n",
        "chars = len(text)\n",
        "\n",
        "print(\"lines: \",len(lines))\n",
        "print(\"words: \",len(words))\n",
        "print(\"characters: \",chars)"
      ],
      "metadata": {
        "colab": {
          "base_uri": "https://localhost:8080/"
        },
        "id": "2ye5R_l1BxYC",
        "outputId": "de776c14-65bc-4d56-f559-fe8715a3c29b"
      },
      "execution_count": 56,
      "outputs": [
        {
          "output_type": "stream",
          "name": "stdout",
          "text": [
            "lines:  2\n",
            "words:  20\n",
            "characters:  122\n"
          ]
        }
      ]
    },
    {
      "cell_type": "markdown",
      "source": [
        "# **Task 4: Store a list into a file**"
      ],
      "metadata": {
        "id": "fYhy3xySCb28"
      }
    },
    {
      "cell_type": "code",
      "source": [
        "friends = [\"sateesh\",\"joshnaa\",\"madhu\",\"vikas\",\"abhi\",\"krishna\",\"hemanth\",\"etc\"]\n",
        "with open(\"notes.txt\",\"w\") as f:\n",
        "  for friend in friends:\n",
        "    f.write(friend+\"\\n\")\n",
        "with open(\"notes.txt\",\"r\") as f:\n",
        "  data = f.read()\n",
        "  print(data)\n",
        ""
      ],
      "metadata": {
        "colab": {
          "base_uri": "https://localhost:8080/"
        },
        "id": "co-5FwdPCfgB",
        "outputId": "53275ecf-5446-49c3-aea4-632125225b37"
      },
      "execution_count": 57,
      "outputs": [
        {
          "output_type": "stream",
          "name": "stdout",
          "text": [
            "sateesh\n",
            "joshnaa\n",
            "madhu\n",
            "vikas\n",
            "abhi\n",
            "krishna\n",
            "hemanth\n",
            "etc\n",
            "\n"
          ]
        }
      ]
    },
    {
      "cell_type": "markdown",
      "source": [
        "# **Day 7 – Mini Projects**"
      ],
      "metadata": {
        "id": "9DuWLG_2DdLc"
      }
    },
    {
      "cell_type": "markdown",
      "source": [
        "# **Mini Project 1: Calculator**\n",
        "Features:\n",
        "\n",
        "Supports Addition, Subtraction, Multiplication, Division\n",
        "\n",
        "Uses functions for modularity\n",
        "\n",
        "Runs continuously until the user exits"
      ],
      "metadata": {
        "id": "EyaIcbMtDfRT"
      }
    },
    {
      "cell_type": "code",
      "source": [
        "def add(a,b):\n",
        "  return a+b\n",
        "def sub(a,b):\n",
        "  return a-b\n",
        "def mul(a,b):\n",
        "  return a*b\n",
        "def div(a,b):\n",
        "  return a/b\n",
        "def mod_div(a,b):\n",
        "  if b==0:\n",
        "    return \"error! Divition by 0.\"\n",
        "  return a%b\n",
        "print(\"SIMPE CALCULATOR\")\n",
        "while True:\n",
        "  choice = input(\"\\noptions(+,-,*,/,%,0(to exit))\\n enter your choice:\")\n",
        "  if choice in [\"+\",\"-\",\"*\",\"/\",\"%\"]:\n",
        "    num1 = float(input(\"enter first number:\"))\n",
        "    num2 = float(input(\"enter second number:\"))\n",
        "    if choice ==\"+\":\n",
        "                print(\"result : \",add(num1,num2))\n",
        "    if choice ==\"-\":\n",
        "                print(\"result : \",sub(num1,num2))\n",
        "    if choice ==\"/\":\n",
        "                print(\"result : \",div(num1,num2))\n",
        "    if choice ==\"*\":\n",
        "                print(\"result : \",mul(num1,num2))\n",
        "    if choice ==\"%\":\n",
        "                print(\"result : \",mod_div(num1,num2))\n",
        "  if choice == \"0\":\n",
        "              print(\"Exiting the calculator.\")\n",
        "              break\n",
        "\n",
        "  else:\n",
        "    print(\"invalid choice\")\n",
        "\n",
        "\n",
        "\n",
        "\n",
        "\n",
        "\n",
        "\n"
      ],
      "metadata": {
        "colab": {
          "base_uri": "https://localhost:8080/"
        },
        "id": "hiPehuKnDl-6",
        "outputId": "b5bd6d64-a644-4622-e05d-8d81fd351513"
      },
      "execution_count": 2,
      "outputs": [
        {
          "output_type": "stream",
          "name": "stdout",
          "text": [
            "SIMPE CALCULATOR\n",
            "\n",
            "options(+,-,*,/,%,0(to exit))\n",
            " enter your choice:0\n",
            "Exiting the calculator.\n"
          ]
        }
      ]
    },
    {
      "cell_type": "markdown",
      "source": [
        "# **Mini Project 2: File Reader & Analyzer**\n",
        "Features:\n",
        "\n",
        "Reads any .txt file\n",
        "\n",
        "Counts lines, words, characters\n",
        "\n",
        "Displays file content"
      ],
      "metadata": {
        "id": "IP5j_nwSGxpm"
      }
    },
    {
      "cell_type": "code",
      "source": [
        "def content(filename):\n",
        "  try:\n",
        "    with open(filename,\"r\") as f:\n",
        "      text = f.read()\n",
        "\n",
        "    lines = text.split(\"\\n\")\n",
        "    words = text.split()\n",
        "    chars = len(text)\n",
        "\n",
        "    print(\"\\n FILE CONTENT\\n\")\n",
        "    print(text)\n",
        "    print(\"\\n FILE DESCRIPTION\\n\")\n",
        "    print(\"Lines: \",len(lines))\n",
        "    print(\"words: \",len(words))\n",
        "    print(\"charactors: \",chars)\n",
        "  except FileNotFoundError:\n",
        "    print(\"Eror: file not found\")\n",
        "filename = input(\"enter file name (with .txt): \")\n",
        "content(filename)"
      ],
      "metadata": {
        "colab": {
          "base_uri": "https://localhost:8080/"
        },
        "id": "mhf4kJ6nG4Yj",
        "outputId": "7e282074-c56d-4eec-fed2-752fd38152ec"
      },
      "execution_count": 3,
      "outputs": [
        {
          "output_type": "stream",
          "name": "stdout",
          "text": [
            "enter file name (with .txt): notes.txt\n",
            "\n",
            " FILE CONTENT\n",
            "\n",
            "sateesh\n",
            "joshnaa\n",
            "madhu\n",
            "vikas\n",
            "abhi\n",
            "krishna\n",
            "hemanth\n",
            "etc\n",
            "\n",
            "\n",
            " FILE DESCRIPTION\n",
            "\n",
            "Lines:  9\n",
            "words:  8\n",
            "charactors:  53\n"
          ]
        }
      ]
    }
  ]
}